{
 "cells": [
  {
   "cell_type": "code",
   "execution_count": 1,
   "metadata": {},
   "outputs": [],
   "source": [
    "import streamlit as st\n",
    "import pandas as pd\n",
    "import numpy as np\n",
    "import requests"
   ]
  },
  {
   "cell_type": "code",
   "execution_count": 49,
   "metadata": {},
   "outputs": [],
   "source": [
    "url = \"https://swapi.dev/api/\""
   ]
  },
  {
   "cell_type": "code",
   "execution_count": 2,
   "metadata": {},
   "outputs": [],
   "source": [
    "req = requests.get(\"https://swapi.dev/api/\")\n",
    "attributes = req.json()"
   ]
  },
  {
   "cell_type": "code",
   "execution_count": 4,
   "metadata": {},
   "outputs": [],
   "source": [
    "select_attribute = \"people\""
   ]
  },
  {
   "cell_type": "code",
   "execution_count": 10,
   "metadata": {},
   "outputs": [],
   "source": [
    "searched = \"\""
   ]
  },
  {
   "cell_type": "code",
   "execution_count": 52,
   "metadata": {},
   "outputs": [],
   "source": [
    "def generate_url(url, category, searched):\n",
    "    return f\"{url}{category}?search={searched}\""
   ]
  },
  {
   "cell_type": "code",
   "execution_count": 51,
   "metadata": {},
   "outputs": [],
   "source": [
    "def make_request(url):\n",
    "    return requests.get(url)"
   ]
  },
  {
   "cell_type": "code",
   "execution_count": null,
   "metadata": {},
   "outputs": [],
   "source": [
    "def choose_category(url):\n",
    "    categories = make_request(url).json()\n",
    "    category = st.selectbox(\n",
    "        'Choose a category :',\n",
    "        categories\n",
    "    )\n",
    "    return category"
   ]
  },
  {
   "cell_type": "code",
   "execution_count": 43,
   "metadata": {},
   "outputs": [],
   "source": [
    "def generate_url_pages_results(req, url):\n",
    "    nb_pages = req.json()['count'] // 10\n",
    "    if req.json()['count'] > nb_pages * 10 :\n",
    "        nb_pages += 1    \n",
    "    link_pages = []\n",
    "    for i in range(nb_pages):\n",
    "        link_pages.append(f\"{url}&page={i+1}\")\n",
    "    return link_pages"
   ]
  },
  {
   "cell_type": "code",
   "execution_count": 39,
   "metadata": {},
   "outputs": [],
   "source": [
    "def print_results(list_url, category):\n",
    "    results = []\n",
    "    for url in list_url:\n",
    "        req = requests.get(url)\n",
    "        for res in req.json()[\"results\"]:\n",
    "            if category != \"films\":\n",
    "                results.append(res[\"name\"])\n",
    "            else:\n",
    "                results.append(res[\"title\"])\n",
    "    return results"
   ]
  },
  {
   "cell_type": "code",
   "execution_count": 53,
   "metadata": {},
   "outputs": [],
   "source": [
    "new_url = generate_url(url, select_attribute, searched)\n",
    "new_req = make_request(url)"
   ]
  },
  {
   "cell_type": "code",
   "execution_count": 44,
   "metadata": {},
   "outputs": [],
   "source": [
    "liste_people = generate_url_pages_results(new_req, new_url)"
   ]
  },
  {
   "cell_type": "code",
   "execution_count": 45,
   "metadata": {},
   "outputs": [],
   "source": [
    "resultat = print_results(liste_people, select_attribute)"
   ]
  },
  {
   "cell_type": "code",
   "execution_count": null,
   "metadata": {},
   "outputs": [],
   "source": []
  }
 ],
 "metadata": {
  "kernelspec": {
   "display_name": "Python 3",
   "language": "python",
   "name": "python3"
  },
  "language_info": {
   "codemirror_mode": {
    "name": "ipython",
    "version": 3
   },
   "file_extension": ".py",
   "mimetype": "text/x-python",
   "name": "python",
   "nbconvert_exporter": "python",
   "pygments_lexer": "ipython3",
   "version": "3.8.12"
  },
  "orig_nbformat": 4,
  "vscode": {
   "interpreter": {
    "hash": "2c0580683667ab85b25bd0849a2de73bba0f654c8e1ce8bc71c140f27a6a2e7e"
   }
  }
 },
 "nbformat": 4,
 "nbformat_minor": 2
}
